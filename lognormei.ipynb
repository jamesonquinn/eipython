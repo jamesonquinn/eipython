{
 "cells": [
  {
   "cell_type": "markdown",
   "metadata": {},
   "source": [
    "# Quick intro\n",
    "\n",
    "This is a jupyter notebook for testing / coding. So far, each code block is a separate test; unlike an ordinary notebook, they are not meant to run sequentially.\n",
    "\n",
    "First, test to see jupyter is running correctly at all:\n"
   ]
  },
  {
   "cell_type": "code",
   "execution_count": 1,
   "metadata": {},
   "outputs": [
    {
     "name": "stdout",
     "output_type": "stream",
     "text": [
      "hi!!!\n",
      "hi!!!\n",
      "hi!!!\n",
      "hi!!!\n",
      "hi!!!\n"
     ]
    }
   ],
   "source": [
    "import os\n",
    "import sys\n",
    "\n",
    "print(\"hi!!!\")\n",
    "print(\"hi!!!\")\n",
    "print(\"hi!!!\")\n",
    "print(\"hi!!!\")\n",
    "print(\"hi!!!\")"
   ]
  },
  {
   "cell_type": "markdown",
   "metadata": {},
   "source": [
    "Next, running \"toypyro\". This started out as a copy of Fritz's code but I hope it evolves into a working version of ours."
   ]
  },
  {
   "cell_type": "code",
   "execution_count": 4,
   "metadata": {},
   "outputs": [
    {
     "name": "stdout",
     "output_type": "stream",
     "text": [
      "Yes, I will run.\n",
      "populations = tensor([[455., 132.],\n",
      "        [ 62.,  43.],\n",
      "        [ 90., 120.],\n",
      "        [ 79., 353.],\n",
      "        [104., 220.],\n",
      "        [219., 434.],\n",
      "        [193., 389.],\n",
      "        [164.,  90.],\n",
      "        [193., 247.],\n",
      "        [ 66., 110.],\n",
      "        [162., 207.],\n",
      "        [ 62., 135.],\n",
      "        [598., 162.],\n",
      "        [353., 836.],\n",
      "        [ 95., 133.],\n",
      "        [150., 114.],\n",
      "        [127., 419.],\n",
      "        [368., 309.],\n",
      "        [197., 249.],\n",
      "        [184., 336.]])\n",
      "tensor([0.5084, 0.3247, 0.5471, 0.6514, 0.6651, 0.5019, 0.7383, 0.1278, 0.4673,\n",
      "        0.7961, 0.5033, 0.4105, 0.1888, 0.7591, 0.1123, 0.9094, 0.8372, 0.4448,\n",
      "        0.5517, 0.4489])\n",
      "epoch 0 loss = 28.181323528289795\n",
      "epoch 100 loss = 19.38272535800934\n",
      "epoch 200 loss = 9.295216083526611\n",
      "epoch 300 loss = 22.572052001953125\n",
      "epoch 400 loss = 23.567858457565308\n",
      "epoch 500 loss = 22.46941649913788\n",
      "epoch 600 loss = 12.212302207946777\n",
      "epoch 700 loss = 8.997203350067139\n",
      "epoch 800 loss = 5.004081726074219\n",
      "epoch 900 loss = 7.000280857086182\n",
      "epoch 1000 loss = 3.09757137298584\n",
      "epoch 1100 loss = 2.553251266479492\n",
      "epoch 1200 loss = 4.8582539558410645\n",
      "epoch 1300 loss = 3.6369247436523438\n",
      "epoch 1400 loss = 2.0926218032836914\n",
      "epoch 1500 loss = -4.994503021240234\n",
      "epoch 1600 loss = 0.7366371154785156\n",
      "epoch 1700 loss = -8.116490364074707\n",
      "epoch 1800 loss = -7.616446018218994\n",
      "epoch 1900 loss = -8.561209678649902\n",
      "epoch 2000 loss = -11.223388195037842\n",
      "epoch 2100 loss = -4.75683069229126\n",
      "epoch 2200 loss = -6.3297343254089355\n",
      "epoch 2300 loss = -8.727267265319824\n",
      "epoch 2400 loss = -10.370307922363281\n",
      "epoch 2500 loss = -6.975238800048828\n",
      "epoch 2600 loss = -13.22604250907898\n",
      "epoch 2700 loss = -0.27526330947875977\n",
      "epoch 2800 loss = -5.365074872970581\n",
      "epoch 2900 loss = -8.731663703918457\n",
      "epoch 3000 loss = -6.720287084579468\n",
      "alpha:\n",
      "tensor([[14.8229, 14.7852],\n",
      "        [10.5164, 12.2130]], requires_grad=True)\n",
      "beta:\n",
      "tensor([[ 3.6682,  4.1271],\n",
      "        [10.5151,  8.6301]], requires_grad=True)\n",
      "t1:\n",
      "tensor([1.8708, 1.4272, 1.6807, 1.3732, 1.2793, 1.3854, 2.0140, 1.7551, 1.9674,\n",
      "        2.3453, 1.8809, 1.3106, 1.9749, 1.9065, 1.8579, 4.0354, 3.0312, 1.8029,\n",
      "        1.5151, 1.5615], requires_grad=True)\n",
      "t2:\n",
      "tensor([1.1201, 1.4201, 1.2238, 1.0292, 0.9968, 1.2343, 1.1097, 3.1534, 1.6095,\n",
      "        1.1246, 1.4923, 1.5962, 3.4569, 1.0943, 3.2275, 1.5088, 1.4931, 1.4207,\n",
      "        1.3028, 1.4948], requires_grad=True)\n"
     ]
    },
    {
     "data": {
      "image/png": "[encoded data removed]",
      "text/plain": [
       "<Figure size 432x288 with 1 Axes>"
      ]
     },
     "metadata": {
      "needs_background": "light"
     },
     "output_type": "display_data"
    }
   ],
   "source": [
    "from importlib import reload\n",
    "import toypyro #import *\n",
    "reload(toypyro)\n",
    "from toypyro import *"
   ]
  },
  {
   "cell_type": "markdown",
   "metadata": {},
   "source": [
    "Next, run \"polytopize\", which has all of my pre-Fritz attempts to code."
   ]
  },
  {
   "cell_type": "code",
   "execution_count": 117,
   "metadata": {},
   "outputs": [
    {
     "name": "stdout",
     "output_type": "stream",
     "text": [
      "Yes, I will run.\n",
      "ge fail\n",
      "loc tensor([[ 0.5255,  2.2841, -5.1064]])\n",
      "polytopedLoc tensor([[ 8.8502e-01,  4.2017e-01, -1.4901e-08,  2.4610e-01],\n",
      "        [ 6.7613e-01,  1.7744e-01,  3.6027e-01,  3.6274e-02]])\n",
      "Reloading cmult...\n",
      "total count 3 <class 'int'>\n",
      "callable? <bound method TorchDistributionMixin.__call__ of Multinomial()>\n",
      "callable? <bound method TorchDistributionMixin.__call__ of TorchCMult()>\n",
      "Sampling multinomial: tensor([0., 3.])\n",
      "Sampling cm2: tensor([1., 2.])\n",
      "total count 4 <class 'int'>\n",
      "total count 5 <class 'int'>\n",
      "tensor(5.6022, grad_fn=<NegBackward>) tensor([[112.2500]])\n"
     ]
    }
   ],
   "source": [
    "import sys\n",
    "import hessian\n",
    "\n",
    "from importlib import reload\n",
    "import polytopize #import *\n",
    "reload(polytopize)\n",
    "from polytopize import *\n"
   ]
  },
  {
   "cell_type": "code",
   "execution_count": 118,
   "metadata": {},
   "outputs": [
    {
     "name": "stdout",
     "output_type": "stream",
     "text": [
      "tensor([[-2.2902, -0.7166],\n",
      "        [-0.2286,  3.0803],\n",
      "        [ 0.1990,  4.6613]], requires_grad=True)\n",
      "tensor([[-0.4949, -0.1548,  0.6497],\n",
      "        [-0.0494,  0.6656, -0.6162],\n",
      "        [ 0.0430,  1.0073, -1.0503],\n",
      "        [ 0.5013, -1.5180,  1.0167]], grad_fn=<SubBackward0>)\n",
      "tensor([[-2.2902, -0.7166],\n",
      "        [-0.2286,  3.0803],\n",
      "        [ 0.1990,  4.6613]], grad_fn=<SliceBackward>)\n"
     ]
    }
   ],
   "source": [
    "loc2\n",
    "\n",
    "result = polytopize(R,C,loc2,indep)\n",
    "\n",
    "loc3 = depolytopize(R,C,result,indep)\n",
    "\n",
    "print(loc2)\n",
    "print(result-indep)\n",
    "print(loc3)"
   ]
  },
  {
   "cell_type": "markdown",
   "metadata": {},
   "source": [
    "Finally, this is a cell for directly experimenting with pytorch and/or pyro. Basically, for getting the tensor syntax right. "
   ]
  },
  {
   "cell_type": "code",
   "execution_count": 110,
   "metadata": {},
   "outputs": [
    {
     "name": "stdout",
     "output_type": "stream",
     "text": [
      "Reloading cmult...\n",
      "tensor(3)\n",
      "tensor([[ 0.8137, -4.4322, -6.2344,  9.8529],\n",
      "        [-2.8682,  3.0514,  1.8272, -2.0104],\n",
      "        [ 2.0546,  1.3808,  4.4071, -7.8425]]) tensor(9.8529)\n",
      "tensor([[0., 0., 0., 0.],\n",
      "        [0., 0., 0., 0.],\n",
      "        [0., 0., 0., 0.]]) 3 4 tensor([[0., 0., 0.],\n",
      "        [0., 0., 0.]])\n"
     ]
    }
   ],
   "source": [
    "import torch\n",
    "import cmult\n",
    "import pyro\n",
    "from importlib import reload\n",
    "reload(cmult)\n",
    "from cmult import CMult\n",
    "\n",
    "#print(CMult(probs=torch.tensor([1., 1., 1., 1.])).log_prob(torch.tensor([1.2, 1.5, 1., 1.])))\n",
    "\n",
    "#print(CMult(100, torch.tensor([ 1., 1., 1., 1.])).sample())\n",
    "\n",
    "R, C = (3,4)\n",
    "\n",
    "y = pyro.distributions.Normal(0.,4.).sample(torch.Size([R-1,C-1]))\n",
    "\n",
    "\n",
    "w = torch.cat((y,-y.sum(1).unsqueeze(1)),1)\n",
    "w = torch.cat((w,-w.sum(0).unsqueeze(0)),0)\n",
    "\n",
    "#print(w)\n",
    "b = w.argmax()\n",
    "print(b)\n",
    "print(w,w[b//C,b % C])\n",
    "\n",
    "tt = torch.zeros(R,C)\n",
    "print(tt,R,C,tt[:(R-1),:(C-1)])"
   ]
  },
  {
   "cell_type": "markdown",
   "metadata": {},
   "source": [
    "## Overview\n",
    "\n",
    "Most SVI problems in pyro are coded as a model, a generic guide (such as: multivariate Gaussian in all parameters), and specific observations/data (passed as arguments to svi.step). For EI, that's going to be different; the observations are going to be built into the guide function, leaving nothing to include in the \"data\" argument to svi.step.\n",
    "\n",
    "That means there is a lot of work for the guide to do. As usual, it must establish reasonable distributional families for the posterior of each of the hyperparameters. But for the latent parameters, the job of the guide is to take a \"relative strength\" number for each race/candidate/precinct combo, and turn that into a number of votes for each combo, such that those numbers obey all the constraints set by observations. This means that for each precinct (considered separately), the latent guide must:\n",
    "\n",
    "-Find the \"center point\" where candidate preference is independent of race.\n",
    "\n",
    "-Find the \"basis vectors\" (actually, there are more than enough of them to form a basis) which determine the directions to move in the space.\n",
    "\n",
    "-For any given set of \"relative strengths\" which is a distance $d$ in a direction $\\theta$, find the first constraint violated when moving in that direction, and the distance $r$ between the origin and that constraint.\n",
    "\n",
    "-Project the \"relative strengths\" onto the numbers of votes, by moving $r(1-e^{-d})$ in direction $\\theta$."
   ]
  },
  {
   "cell_type": "markdown",
   "metadata": {},
   "source": [
    "#### a = zs(2,2,2,2)\n",
    "a[0,1,1,1] = 2\n",
    "print(a[1,1])\n",
    "print(a[0,1])\n",
    "print(torch.max(a))\n",
    "print(torch.distributions.exponential.Exponential(ts([1])).sample(4))"
   ]
  },
  {
   "cell_type": "code",
   "execution_count": 78,
   "metadata": {},
   "outputs": [
    {
     "name": "stdout",
     "output_type": "stream",
     "text": [
      "hi world\n",
      "tensor(2.)\n",
      "tensor([0.4798, 0.3568, 0.3053])\n",
      "<built-in method exp of type object at 0x1a1c450470>\n"
     ]
    }
   ],
   "source": [
    "print(\"hi\",\"world\")\n",
    "a = zs(2,2,2,2)\n",
    "a[0,1,1,1] = 2 \n",
    "print(torch.max(a[0,1])) \n",
    "print(pyro.distributions.Exponential(1.).sample(torch.Size([3])))\n",
    "a.add_(torch.ones(2,2,2))\n",
    "print(torch.exp)"
   ]
  }
 ],
 "metadata": {
  "kernelspec": {
   "display_name": "Python 3",
   "language": "python",
   "name": "python3"
  },
  "language_info": {
   "codemirror_mode": {
    "name": "ipython",
    "version": 3
   },
   "file_extension": ".py",
   "mimetype": "text/x-python",
   "name": "python",
   "nbconvert_exporter": "python",
   "pygments_lexer": "ipython3",
   "version": "3.7.0"
  }
 },
 "nbformat": 4,
 "nbformat_minor": 2
}
