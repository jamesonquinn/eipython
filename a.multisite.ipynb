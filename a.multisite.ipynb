{
 "cells": [
  {
   "cell_type": "markdown",
   "metadata": {},
   "source": [
    "# Quick intro\n",
    "\n",
    "Scratch:\n"
   ]
  },
  {
   "cell_type": "code",
   "execution_count": 8,
   "metadata": {},
   "outputs": [
    {
     "name": "stdout",
     "output_type": "stream",
     "text": [
      "/anaconda3/lib/python3.7/site-packages/pyro/__init__.py\n",
      "/anaconda3/bin/python\n"
     ]
    }
   ],
   "source": [
    "import json\n",
    "import sys\n",
    "import pyro\n",
    "\n",
    "print(pyro.__file__)\n",
    "\n",
    "\n",
    "print(sys.executable)"
   ]
  },
  {
   "cell_type": "markdown",
   "metadata": {},
   "source": [
    "Amortizable hierarchical t model:"
   ]
  },
  {
   "cell_type": "code",
   "execution_count": null,
   "metadata": {
    "scrolled": false
   },
   "outputs": [
    {
     "name": "stdout",
     "output_type": "stream",
     "text": [
      "0 1 ['amortized_laplace', 'unamortized_laplace', 'meanfield'] {'modal_effect': tensor(0.5000), 'df': tensor(-1.), 't_scale': tensor(-1.)}\n",
      "1\n",
      "testresults/scenario_N400_mu0.5_sigma-1.0_nu2.5+exp-1.0.csv from file\n",
      "400\n",
      "tensor([-5.0434,  2.2334,  1.4021,  1.0256])\n",
      "Sizes: torch.Size([400]) torch.Size([400])\n",
      "guidename amortized_laplace\n",
      "trueparams {'modal_effect': tensor(0.5000), 'df': tensor(-1.), 't_scale': tensor(-1.)}\n",
      "esize torch.Size([400])\n",
      "complaint 9 assert approx_eq( tensor([-8.2267e+01,  1.0443e+01,  2.7109e+00,  1.0697e+00,  1.9967e-02,\n",
      "        -8.8542e+01,  2.5713e-01, -1.4608e+00,  3.0260e+02,  8.5227e-02],\n",
      "       grad_fn=<SliceBackward>) tensor([ 9.5398e+01, -1.0671e+01, -2.7259e+00, -1.0727e+00, -2.0224e-02,\n",
      "         8.9496e+01, -2.5961e-01,  1.7317e+00, -3.0406e+02, -9.1723e-02],\n",
      "       grad_fn=<SliceBackward>) tensor([-101.9181,   39.5448,   24.6985,   18.0587,    4.8378,  -80.2647,\n",
      "          11.3054,  -23.9506,  120.2219,    8.3443], grad_fn=<SliceBackward>) tensor([  88.7867,  -39.3176,  -24.6834,  -18.0557,   -4.8375,   79.3103,\n",
      "         -11.3029,   23.6796, -118.7607,   -8.3378], grad_fn=<SliceBackward>)\n",
      "complaint 8 assert2 approx_eq( tensor([-1.5259e-05, -3.8147e-06,  1.9073e-06,  0.0000e+00,  1.9073e-06,\n",
      "        -1.5259e-05,  0.0000e+00, -3.8147e-06,  7.2479e-04, -2.8610e-06],\n",
      "       grad_fn=<SliceBackward>)\n",
      "complaint 7 dm.grad\n",
      "complaint 6 dtr.grad\n",
      "complaint 5 ddfr.grad\n",
      "epoch 0 loss = 1322.5984432697296;\n",
      "mode_hat tensor(0.0050, requires_grad=True)\n",
      "ltscale_hat tensor(-0.0050, requires_grad=True)\n",
      "ldfraw_hat tensor(0.0050, requires_grad=True)\n",
      "complaint 4 assert approx_eq( tensor([-8.2450e+01,  1.0371e+01,  2.6818e+00,  1.0541e+00,  1.8894e-02,\n",
      "        -8.8833e+01,  2.5113e-01, -1.4747e+00,  3.0192e+02,  8.2479e-02],\n",
      "       grad_fn=<SliceBackward>) tensor([ 9.5635e+01, -1.0597e+01, -2.6967e+00, -1.0571e+00, -1.9138e-02,\n",
      "         8.9792e+01, -2.5357e-01,  1.7492e+00, -3.0338e+02, -8.8794e-02],\n",
      "       grad_fn=<SliceBackward>) tensor([-101.7909,   39.3379,   24.5361,   17.9165,    4.7354,  -80.1176,\n",
      "          11.1835,  -23.9704,  119.7769,    8.2312], grad_fn=<SliceBackward>) tensor([  88.6066,  -39.1112,  -24.5211,  -17.9135,   -4.7351,   79.1588,\n",
      "         -11.1811,   23.6959, -118.3147,   -8.2249], grad_fn=<SliceBackward>)\n",
      "complaint 3 assert2 approx_eq( tensor([ 7.6294e-06,  0.0000e+00,  3.8147e-06,  5.7220e-06,  1.9073e-06,\n",
      "        -2.2888e-05,  2.8610e-06, -1.9073e-06,  6.8665e-04, -2.8610e-06],\n",
      "       grad_fn=<SliceBackward>)\n",
      "complaint 2 dm.grad\n",
      "complaint 1 dtr.grad\n",
      "complaint 0 ddfr.grad\n",
      "complaint 0\n"
     ]
    }
   ],
   "source": [
    "from importlib import reload\n",
    "import multisiteT #import *\n",
    "reload(multisiteT)\n",
    "from multisiteT import *\n",
    "import cProfile as profile\n",
    "\n",
    "#vals = MIDDF35\n",
    "guidenames = [\"amortized_laplace\",\"unamortized_laplace\",\"meanfield\"]#,\"meanfield\",]#,\"MLE\"]#,\"laplace\"\n",
    "if True:\n",
    "\n",
    "  for nsamps in [12,25,50,100,150]:\n",
    "    for aniter in range(1):\n",
    "        for nparticles in [1]:#,5]:\n",
    "            for trueparams in [ndom_fat_params,ndom_norm_params,]:#tdom_fat_params,tdom_norm_params,]:\n",
    "                for guidename in guidenames:\n",
    "                    #\n",
    "\n",
    "                    print(aniter,nparticles,guidenames,trueparams)\n",
    "                    result = trainGuide(guidename,nparticles,trueparams,\n",
    "                                        filename=\"testresults/demoT_2.csv\",\n",
    "                                       subsample_N = nsamps)\n",
    "                    print(aniter,nparticles,guidenames)\n",
    "                    for line in range(10):\n",
    "                        print()\n",
    "                    \n",
    "else:\n",
    "    plt.plot([getMLE(.01 + x/100,1.,0,1.) for x in range(500)])\n",
    "                    "
   ]
  },
  {
   "cell_type": "markdown",
   "metadata": {},
   "source": [
    "MCMC, etc."
   ]
  },
  {
   "cell_type": "code",
   "execution_count": 3,
   "metadata": {},
   "outputs": [
    {
     "name": "stdout",
     "output_type": "stream",
     "text": [
      "running...\n",
      "/anaconda3/bin/python\n",
      "Reloading polytopize.\n",
      "addHess tested\n",
      "addHess tested\n",
      "making:\n",
      "1\n",
      "testresults/scenario_N44_mu1.0_sigma2.0_nu-1.0.csv from file\n",
      "44\n",
      "tensor([32.5364, -3.3454,  3.2929, -2.5415])\n",
      "{'hessian': tensor([[1., 0., 1.],\n",
      "        [0., 2., 0.],\n",
      "        [1., 0., 1.]]), 'logPosterior': 0}\n"
     ]
    }
   ],
   "source": [
    "print(\"running...\")\n",
    "\n",
    "import sys, os\n",
    "\n",
    "print(sys.executable)\n",
    "#print(sys.path)\n",
    "\n",
    "from importlib import reload\n",
    "import multisiteT #import *\n",
    "reload(multisiteT)\n",
    "from multisiteT import *\n",
    "import cProfile as profile\n",
    "\n",
    "print(\"making:\")\n",
    "\n",
    "multisiteMod = createScenario(tdom_fat_params)\n"
   ]
  },
  {
   "cell_type": "code",
   "execution_count": 13,
   "metadata": {},
   "outputs": [
    {
     "ename": "SyntaxError",
     "evalue": "invalid syntax (<ipython-input-13-78d7c46ccca3>, line 1)",
     "output_type": "error",
     "traceback": [
      "\u001b[0;36m  File \u001b[0;32m\"<ipython-input-13-78d7c46ccca3>\"\u001b[0;36m, line \u001b[0;32m1\u001b[0m\n\u001b[0;31m    multisiteMod.\u001b[0m\n\u001b[0m                 ^\u001b[0m\n\u001b[0;31mSyntaxError\u001b[0m\u001b[0;31m:\u001b[0m invalid syntax\n"
     ]
    }
   ],
   "source": [
    "multisiteMod."
   ]
  },
  {
   "cell_type": "code",
   "execution_count": 8,
   "metadata": {},
   "outputs": [
    {
     "name": "stdout",
     "output_type": "stream",
     "text": [
      "0.27889007329940796\n"
     ]
    }
   ],
   "source": [
    "maxError = torch.max(errors)\n",
    "print(float(maxError))"
   ]
  },
  {
   "cell_type": "code",
   "execution_count": null,
   "metadata": {},
   "outputs": [],
   "source": []
  }
 ],
 "metadata": {
  "kernelspec": {
   "display_name": "Python 3",
   "language": "python",
   "name": "python3"
  }
 },
 "nbformat": 4,
 "nbformat_minor": 2
}
