{
 "cells": [
  {
   "cell_type": "markdown",
   "metadata": {},
   "source": [
    "# Quick intro\n",
    "\n",
    "This is a jupyter notebook for testing / coding. So far, each code block is a separate test; unlike an ordinary notebook, they are not meant to run sequentially.\n",
    "\n",
    "First, test to see jupyter is running correctly at all:\n"
   ]
  },
  {
   "cell_type": "code",
   "execution_count": 1,
   "metadata": {},
   "outputs": [
    {
     "name": "stdout",
     "output_type": "stream",
     "text": [
      "hi!!! you\n"
     ]
    }
   ],
   "source": [
    "import os\n",
    "import sys\n",
    "\n",
    "print(\"hi!!! you\")"
   ]
  },
  {
   "cell_type": "markdown",
   "metadata": {},
   "source": [
    "Do grads apply through hessians?"
   ]
  },
  {
   "cell_type": "code",
   "execution_count": 21,
   "metadata": {},
   "outputs": [
    {
     "name": "stdout",
     "output_type": "stream",
     "text": [
      "torch.Size([5])\n",
      "tensor([ 0.7500,  6.7500, 18.7500, 36.7500, 60.7500], grad_fn=<MulBackward0>)\n",
      "tensor([0., 6., 0., 0., 0.])\n",
      "True\n"
     ]
    }
   ],
   "source": [
    "import myhessian\n",
    "import torch\n",
    "ts = torch.tensor\n",
    "t = ts([i+.5 for i in range(5)], requires_grad=True)\n",
    "l = torch.sum(t**3)\n",
    "[lg] = torch.autograd.grad(l,t,create_graph=True,retain_graph=True)\n",
    "[lgg] = torch.autograd.grad(lg[1],t,create_graph=True,retain_graph=True)\n",
    "lgg2 = lgg.contiguous().view(-1)\n",
    "print(lgg2.size())\n",
    "lgg3 = torch.zeros(6,6)#,requires_grad=True)\n",
    "lgg3[1,1:].add_(lgg2.type_as(lgg3))\n",
    "print(lg)\n",
    "h = myhessian.hessian(l,t)\n",
    "l2 = torch.sum(lgg3)\n",
    "l2.backward()\n",
    "print(t.grad)\n",
    "print(lgg3.requires_grad)"
   ]
  },
  {
   "cell_type": "markdown",
   "metadata": {},
   "source": [
    "Can you add grads post-hoc?"
   ]
  },
  {
   "cell_type": "code",
   "execution_count": 25,
   "metadata": {},
   "outputs": [
    {
     "name": "stdout",
     "output_type": "stream",
     "text": [
      "<MulBackward0 object at 0x0000012984CDB400>\n",
      "tensor(2.)\n",
      "tensor(4.)\n",
      "tensor(6.)\n",
      "tensor(8.)\n",
      "tensor(16.)\n",
      "tensor(18.)\n",
      "3\n"
     ]
    }
   ],
   "source": [
    "from torch import *\n",
    "\n",
    "t1 = torch.tensor(1., requires_grad=True)\n",
    "t1b = t1.detach().requires_grad_()\n",
    "t2 = 2 * t1b\n",
    "t3 = t2 * t1\n",
    "print(t2.grad_fn)\n",
    "temp = t2.grad_fn\n",
    "#t2.grad_fn = None\n",
    "t3.backward(retain_graph=True)\n",
    "print(t1.grad)\n",
    "t3.backward(retain_graph=True)\n",
    "print(t1.grad)\n",
    "#t2.requires_grad = False\n",
    "t3.backward(retain_graph=True)\n",
    "print(t1.grad)\n",
    "#t2.requires_grad = True\n",
    "t3.backward(retain_graph=True)\n",
    "print(t1.grad)\n",
    "t1.grad = t1.grad + t1b.grad\n",
    "print(t1.grad)\n",
    "t3.backward(retain_graph=True)\n",
    "print(t1.grad)\n",
    "t3.extra_attr = 3\n",
    "print(t3.extra_attr)\n"
   ]
  },
  {
   "cell_type": "markdown",
   "metadata": {},
   "source": [
    "Do I have the Euler constant right?"
   ]
  },
  {
   "cell_type": "code",
   "execution_count": 17,
   "metadata": {},
   "outputs": [
    {
     "name": "stdout",
     "output_type": "stream",
     "text": [
      "tensor(-1.3647)\n"
     ]
    },
    {
     "data": {
      "text/plain": [
       "tensor(0.0003)"
      ]
     },
     "execution_count": 17,
     "metadata": {},
     "output_type": "execute_result"
    }
   ],
   "source": [
    "import pyro\n",
    "from pyro import distributions as dist\n",
    "import torch\n",
    "\n",
    "EULER_CONSTANT = 0.5772156649015328606065120900824024310421\n",
    "gd = dist.Gumbel(torch.tensor(-EULER_CONSTANT),torch.tensor(1.))\n",
    "print(gd.sample())\n",
    "torch.mean(gd.sample([1000000]))\n"
   ]
  },
  {
   "cell_type": "markdown",
   "metadata": {},
   "source": [
    "Does the \"linearize then delinearize\" trick work?"
   ]
  },
  {
   "cell_type": "code",
   "execution_count": 1,
   "metadata": {},
   "outputs": [
    {
     "name": "stdout",
     "output_type": "stream",
     "text": [
      "tensor([[2.0000, 0.0000, 0.0000, 0.0000, 0.0000, 0.0000, 0.0000, 0.0000, 0.0000],\n",
      "        [0.0000, 2.0000, 0.0000, 0.0000, 0.0000, 0.0000, 0.0000, 0.0000, 0.0000],\n",
      "        [0.0000, 0.0000, 2.0000, 0.0000, 0.0000, 0.0000, 0.0000, 0.0000, 0.0000],\n",
      "        [0.0000, 0.0000, 0.0000, 2.0000, 0.0000, 0.0000, 0.0000, 0.0000, 0.0000],\n",
      "        [0.0000, 0.0000, 0.0000, 0.0000, 2.0000, 0.0000, 0.0000, 0.0000, 0.0000],\n",
      "        [0.0000, 0.0000, 0.0000, 0.0000, 0.0000, 0.5000, 0.0000, 0.0000, 0.0000],\n",
      "        [0.0000, 0.0000, 0.0000, 0.0000, 0.0000, 0.0000, 0.2222, 0.0000, 0.0000],\n",
      "        [0.0000, 0.0000, 0.0000, 0.0000, 0.0000, 0.0000, 0.0000, 0.1250, 0.0000],\n",
      "        [0.0000, 0.0000, 0.0000, 0.0000, 0.0000, 0.0000, 0.0000, 0.0000, 0.0800]],\n",
      "       grad_fn=<CopySlices>) tensor([2.0000, 2.0000, 2.0000, 2.0000, 0.0000, 1.0000, 1.3333, 1.5000, 1.6000],\n",
      "       grad_fn=<CatBackward>)\n",
      "tensor([[2., 0., 0., 0., 0., 0., 0., 0., 0.],\n",
      "        [0., 2., 0., 0., 0., 0., 0., 0., 0.],\n",
      "        [0., 0., 2., 0., 0., 0., 0., 0., 0.],\n",
      "        [0., 0., 0., 2., 0., 0., 0., 0., 0.],\n",
      "        [0., 0., 0., 0., 0., 0., 0., 0., 0.],\n",
      "        [0., 0., 0., 0., 0., 0., 0., 0., 0.],\n",
      "        [0., 0., 0., 0., 0., 0., 0., 0., 0.],\n",
      "        [0., 0., 0., 0., 0., 0., 0., 0., 0.],\n",
      "        [0., 0., 0., 0., 0., 0., 0., 0., 0.]], grad_fn=<CopySlices>) tensor([2., 2., 2., 2., 0., 0., 0., 0., 0.], grad_fn=<CatBackward>)\n"
     ]
    }
   ],
   "source": [
    "import torch\n",
    "import myhessian\n",
    "\n",
    "t1 = torch.ones(2,2,requires_grad = True)\n",
    "ys = []\n",
    "ws = []\n",
    "y2 = []\n",
    "for i in range(5):\n",
    "    ys.append(torch.ones(1,requires_grad = True) * i)\n",
    "    ws.append(ys[i] * (i+1))\n",
    "    y2.append(ws[i] / (i+1))\n",
    "    \n",
    "y = torch.cat(y2,0)\n",
    "output = torch.sum(t1**2) + torch.sum(y**2)\n",
    "\n",
    "\n",
    "hess,grad = myhessian.hessian(output,[t1]+ws,return_grad=True,allow_unused=True)\n",
    "\n",
    "print(hess,grad) \n",
    "#good graph\n",
    "\n",
    "t1 = torch.ones(2,2,requires_grad = True)\n",
    "ys = []\n",
    "ws = []\n",
    "y2 = []\n",
    "for i in range(5):\n",
    "    ys.append(torch.ones(1,requires_grad = True) * i)\n",
    "    ws.append(ys[i] * (i+1))\n",
    "    y2.append(ws[i] / (i+1))\n",
    "    \n",
    "y = torch.cat(ys,0)\n",
    "output = torch.sum(t1**2) + torch.sum(y**2)\n",
    "\n",
    "hess,grad = myhessian.hessian(output,[t1]+ws,return_grad=True,allow_unused=True)\n",
    "\n",
    "print(hess,grad) #bad graph too sparse"
   ]
  },
  {
   "cell_type": "markdown",
   "metadata": {},
   "source": [
    "What do the values mean in format_shapes?"
   ]
  },
  {
   "cell_type": "code",
   "execution_count": 11,
   "metadata": {},
   "outputs": [
    {
     "name": "stdout",
     "output_type": "stream",
     "text": [
      "Trace Shapes:            \n",
      " Param Sites:            \n",
      "Sample Sites:            \n",
      "       a dist       |    \n",
      "        value       |    \n",
      "     log_prob       |    \n",
      "       b dist       | 2  \n",
      "        value       | 2  \n",
      "     log_prob       |    \n",
      " c_plate dist       |    \n",
      "        value     2 |    \n",
      "     log_prob       |    \n",
      "       c dist     2 |    \n",
      "        value     2 |    \n",
      "     log_prob     2 |    \n",
      " d_plate dist       |    \n",
      "        value     3 |    \n",
      "     log_prob       |    \n",
      "       d dist     3 | 4 5\n",
      "        value     3 | 4 5\n",
      "     log_prob     3 |    \n",
      "  x_axis dist       |    \n",
      "        value     3 |    \n",
      "     log_prob       |    \n",
      "  y_axis dist       |    \n",
      "        value     2 |    \n",
      "     log_prob       |    \n",
      "       x dist   3 1 |    \n",
      "        value   3 1 |    \n",
      "     log_prob   3 1 |    \n",
      "       y dist 2 1 1 |    \n",
      "        value 2 1 1 |    \n",
      "     log_prob 2 1 1 |    \n",
      "      xy dist 2 3 1 |    \n",
      "        value 2 3 1 |    \n",
      "     log_prob 2 3 1 |    \n",
      "       z dist 2 3 1 | 5  \n",
      "        value 2 3 1 | 5  \n",
      "     log_prob 2 3 1 |    \n"
     ]
    }
   ],
   "source": [
    "import os\n",
    "import torch\n",
    "import pyro\n",
    "from torch.distributions import constraints\n",
    "from pyro.distributions import Bernoulli, Categorical, MultivariateNormal, Multinomial, Normal\n",
    "from pyro.distributions.util import broadcast_shape\n",
    "from pyro.infer import Trace_ELBO, TraceEnum_ELBO, config_enumerate\n",
    "import pyro.poutine as poutine\n",
    "from pyro.optim import Adam\n",
    "\n",
    "# We'll ue this helper to check our models are correct.\n",
    "def test_model(model, guide, loss):\n",
    "    pyro.clear_param_store()\n",
    "    loss.loss(model, guide)\n",
    "    \n",
    "def model1():\n",
    "    a = pyro.sample(\"a\", Normal(0, 1))\n",
    "    b = pyro.sample(\"b\", Normal(torch.zeros(2), 1).to_event(1))\n",
    "    with pyro.plate(\"c_plate\", 2):\n",
    "        c = pyro.sample(\"c\", Normal(torch.zeros(2), 1))\n",
    "    with pyro.plate(\"d_plate\", 3):\n",
    "        d = pyro.sample(\"d\", Multinomial(5,torch.ones(3,4,5)).to_event(1))\n",
    "    assert a.shape == ()       # batch_shape == ()     event_shape == ()\n",
    "    assert b.shape == (2,)     # batch_shape == ()     event_shape == (2,)\n",
    "    assert c.shape == (2,)     # batch_shape == (2,)   event_sahpe == ()\n",
    "    assert d.shape == (3,4,5)  # batch_shape == (3,)   event_shape == (4,5)\n",
    "\n",
    "    x_axis = pyro.plate(\"x_axis\", 3, dim=-2)\n",
    "    y_axis = pyro.plate(\"y_axis\", 2, dim=-3)\n",
    "    with x_axis:\n",
    "        x = pyro.sample(\"x\", Normal(0, 1))\n",
    "    with y_axis:\n",
    "        y = pyro.sample(\"y\", Normal(0, 1))\n",
    "    with x_axis, y_axis:\n",
    "        xy = pyro.sample(\"xy\", Normal(0, 1))\n",
    "        z = pyro.sample(\"z\", Normal(0, 1).expand([5]).to_event(1))\n",
    "    assert x.shape == (3, 1)        # batch_shape == (3,1)     event_shape == ()\n",
    "    assert y.shape == (2, 1, 1)     # batch_shape == (2,1,1)   event_shape == ()\n",
    "    assert xy.shape == (2, 3, 1)    # batch_shape == (2,3,1)   event_shape == ()\n",
    "    assert z.shape == (2, 3, 1, 5)  # batch_shape == (2,3,1)   event_shape == (5,)\n",
    "\n",
    "test_model(model1, model1, Trace_ELBO())\n",
    "\n",
    "trace = poutine.trace(model1).get_trace()\n",
    "trace.compute_log_prob()  # optional, but allows printing of log_prob shapes\n",
    "print(trace.format_shapes())"
   ]
  },
  {
   "cell_type": "markdown",
   "metadata": {},
   "source": [
    "Does my gumbel MLE function work?"
   ]
  },
  {
   "cell_type": "code",
   "execution_count": null,
   "metadata": {},
   "outputs": [],
   "source": [
    "from importlib import reload\n",
    "import demo #import *\n",
    "reload(demo)\n",
    "from demo import *\n",
    "import cProfile as profile\n",
    "\n",
    "print(\"hi\")\n",
    "\n",
    "print(lambertw(ts([0.])),lambertw(ts([1.])),lambertw(ts([50.])))\n",
    "print(\"hi\")\n",
    "\n",
    "testMLE()"
   ]
  },
  {
   "cell_type": "markdown",
   "metadata": {},
   "source": [
    "draw some ellipses:\n"
   ]
  },
  {
   "cell_type": "code",
   "execution_count": 8,
   "metadata": {},
   "outputs": [
    {
     "name": "stdout",
     "output_type": "stream",
     "text": [
      "Ellipse(xy=(0, 0), width=2.0, height=2.0, angle=0)\n",
      "hi\n"
     ]
    },
    {
     "data": {
      "image/png": "[encoded data removed]",
      "text/plain": [
       "<Figure size 432x432 with 1 Axes>"
      ]
     },
     "metadata": {
      "needs_background": "light"
     },
     "output_type": "display_data"
    }
   ],
   "source": [
    "from draw_ellipses import *\n",
    "import torch\n",
    "\n",
    "\n",
    "fig, ax = plt.subplots(figsize=(6, 6))\n",
    "lims = [-5,5]\n",
    "ax.scatter(lims, lims, s=0.5)\n",
    "\n",
    "confidence_ellipse(torch.ones(2),torch.eye(2),ax,alpha=0.5, facecolor='pink', edgecolor='purple', zorder=0)\n",
    "print(\"hi\")\n",
    "plt.show()"
   ]
  },
  {
   "cell_type": "code",
   "execution_count": null,
   "metadata": {},
   "outputs": [],
   "source": [
    "import myhessian\n",
    "import torch\n",
    "ts = torch.tensor\n",
    "\n",
    "t = torch.ones(3) * 3.\n",
    "l = torch.sum(t**3)\n",
    "h,g = myhessian.hess\n",
    "\n"
   ]
  }
 ],
 "metadata": {
  "kernelspec": {
   "display_name": "Python 3",
   "language": "python",
   "name": "python3"
  },
  "language_info": {
   "codemirror_mode": {
    "name": "ipython",
    "version": 3
   },
   "file_extension": ".py",
   "mimetype": "text/x-python",
   "name": "python",
   "nbconvert_exporter": "python",
   "pygments_lexer": "ipython3",
   "version": "3.7.3"
  }
 },
 "nbformat": 4,
 "nbformat_minor": 2
}
